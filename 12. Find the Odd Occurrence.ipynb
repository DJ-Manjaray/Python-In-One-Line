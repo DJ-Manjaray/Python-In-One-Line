{
 "cells": [
  {
   "cell_type": "markdown",
   "id": "3b74e53a-1cbe-4d22-95af-f64d50340413",
   "metadata": {},
   "source": [
    "*deerajmanjaray1997@gmail.com*"
   ]
  },
  {
   "cell_type": "markdown",
   "id": "a68250c4-be3a-48f5-ac62-7e9d78239903",
   "metadata": {},
   "source": [
    "## FIND THE ODD OCCURRENCE"
   ]
  },
  {
   "cell_type": "code",
   "execution_count": 1,
   "id": "51506591-80a7-42af-9cf3-bed6808fc4a2",
   "metadata": {},
   "outputs": [],
   "source": [
    "import random, functools"
   ]
  },
  {
   "cell_type": "code",
   "execution_count": 2,
   "id": "89b7a7fc-95c8-443c-9ca7-3f2ee7ce35b0",
   "metadata": {},
   "outputs": [],
   "source": [
    "def find_odd(ar):\n",
    "    return functools.reduce(lambda x, y: x ^ y, ar)    "
   ]
  },
  {
   "cell_type": "code",
   "execution_count": 3,
   "id": "4dc81d1c-f871-48dd-b852-f68f0d7ce36a",
   "metadata": {},
   "outputs": [
    {
     "data": {
      "text/plain": [
       "[31, 50, 76, 92, 85, 84, 50, 71, 74, 60, 18, 43, 33, 11, 80, 19, 52, 51, 4]"
      ]
     },
     "execution_count": 3,
     "metadata": {},
     "output_type": "execute_result"
    }
   ],
   "source": [
    "ar = [random.randint(1, 100) for _ in range(random.randint(10, 20))]\n",
    "ar"
   ]
  },
  {
   "cell_type": "code",
   "execution_count": 4,
   "id": "a6f14268-8d57-4033-aef0-72ff6f7641a5",
   "metadata": {},
   "outputs": [
    {
     "data": {
      "text/plain": [
       "('Input:', '31 50 76 92 85 84 50 71 74 60 18 43 33 11 80 19 52 51 4')"
      ]
     },
     "execution_count": 4,
     "metadata": {},
     "output_type": "execute_result"
    }
   ],
   "source": [
    "\"Input:\", \" \".join(map(str, ar))"
   ]
  },
  {
   "cell_type": "code",
   "execution_count": 5,
   "id": "660afa29-6f94-4ad7-ab17-a319cd31deed",
   "metadata": {},
   "outputs": [
    {
     "data": {
      "text/plain": [
       "('Result:', 108)"
      ]
     },
     "execution_count": 5,
     "metadata": {},
     "output_type": "execute_result"
    }
   ],
   "source": [
    "\"Result:\", find_odd(ar)"
   ]
  },
  {
   "cell_type": "markdown",
   "id": "115723ed-0c5b-44f5-8678-f6e8b98a6f07",
   "metadata": {},
   "source": [
    "<div style=\"display: flex; justify-content: center; gap: 20px; padding: 10px;\">\n",
    "  <!-- GitHub Link -->\n",
    "  <a href=\"https://github.com/DJ-Manjaray\" target=\"_blank\">\n",
    "    <img src=\"https://icons.iconarchive.com/icons/simpleicons-team/simple/32/github-icon.png\" width=\"32\" height=\"32\" alt=\"Deeraj Manjaray Github Profile\">\n",
    "  </a>\n",
    "\n",
    "  <!-- LinkedIn Link -->\n",
    "  <a href=\"https://www.linkedin.com/in/deeraj-manjaray/\" target=\"_blank\">\n",
    "    <img src=\"https://icons.iconarchive.com/icons/limav/flat-gradient-social/32/Linkedin-icon.png\" width=\"32\" height=\"32\" alt=\"Deeraj Manjaray LinkedIn Profile\">\n",
    "  </a>\n",
    "\n",
    "  <!-- Medium Link -->\n",
    "  <a href=\"https://medium.com/@deerajmanjaray\" target=\"_blank\">\n",
    "    <img src=\"https://icons.iconarchive.com/icons/simpleicons-team/simple/32/medium-icon.png\" width=\"32\" height=\"32\" alt=\"Deeraj Manjaray Medium Profile\">\n",
    "  </a>\n",
    "\n",
    "  <!-- Twitter Link -->\n",
    "  <a href=\"https://x.com/deerajmanjaray\" target=\"_blank\">\n",
    "    <img src=\"https://icons.iconarchive.com/icons/sicons/basic-round-social/32/twitter-icon.png\" width=\"32\" height=\"32\" alt=\"Deeraj Manjaray Twitter Profile\">\n",
    "  </a>\n",
    "</div>\n"
   ]
  },
  {
   "cell_type": "code",
   "execution_count": null,
   "id": "271dbb6a-b91b-471b-87f7-07864affe85b",
   "metadata": {},
   "outputs": [],
   "source": []
  }
 ],
 "metadata": {
  "kernelspec": {
   "display_name": "Python 3 (ipykernel)",
   "language": "python",
   "name": "python3"
  },
  "language_info": {
   "codemirror_mode": {
    "name": "ipython",
    "version": 3
   },
   "file_extension": ".py",
   "mimetype": "text/x-python",
   "name": "python",
   "nbconvert_exporter": "python",
   "pygments_lexer": "ipython3",
   "version": "3.11.5"
  }
 },
 "nbformat": 4,
 "nbformat_minor": 5
}
